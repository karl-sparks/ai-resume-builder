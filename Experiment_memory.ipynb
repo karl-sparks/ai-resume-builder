{
 "cells": [
  {
   "cell_type": "code",
   "execution_count": 1,
   "metadata": {},
   "outputs": [],
   "source": [
    "from SparksAI.sparksai import SparksAI\n",
    "from datetime import datetime\n"
   ]
  },
  {
   "cell_type": "code",
   "execution_count": 2,
   "metadata": {},
   "outputs": [],
   "source": [
    "new_ai = SparksAI()"
   ]
  },
  {
   "cell_type": "code",
   "execution_count": 4,
   "metadata": {},
   "outputs": [
    {
     "ename": "NameError",
     "evalue": "name 'datetime' is not defined",
     "output_type": "error",
     "traceback": [
      "\u001b[1;31m---------------------------------------------------------------------------\u001b[0m",
      "\u001b[1;31mNameError\u001b[0m                                 Traceback (most recent call last)",
      "\u001b[1;32md:\\dev\\sparks-ai\\Experiment_memory.ipynb Cell 3\u001b[0m line \u001b[0;36m1\n\u001b[1;32m----> <a href='vscode-notebook-cell:/d%3A/dev/sparks-ai/Experiment_memory.ipynb#X24sZmlsZQ%3D%3D?line=0'>1</a>\u001b[0m new_ai\u001b[39m.\u001b[39;49mnotice(\u001b[39m\"\u001b[39;49m\u001b[39mHi! My name is Karl, how are you today?\u001b[39;49m\u001b[39m\"\u001b[39;49m)\n",
      "File \u001b[1;32md:\\dev\\sparks-ai\\SparksAI\\sparksai.py:22\u001b[0m, in \u001b[0;36mSparksAI.notice\u001b[1;34m(self, msg)\u001b[0m\n\u001b[0;32m     21\u001b[0m \u001b[39mdef\u001b[39;00m \u001b[39mnotice\u001b[39m(\u001b[39mself\u001b[39m, msg: \u001b[39mstr\u001b[39m) \u001b[39m-\u001b[39m\u001b[39m>\u001b[39m \u001b[39mNone\u001b[39;00m:\n\u001b[1;32m---> 22\u001b[0m     formated_thought \u001b[39m=\u001b[39m \u001b[39mf\u001b[39m\u001b[39m'\u001b[39m\u001b[39mYou thought \u001b[39m\u001b[39m\"\u001b[39m\u001b[39m{\u001b[39;00mmsg\u001b[39m}\u001b[39;00m\u001b[39m\"\u001b[39m\u001b[39m at \u001b[39m\u001b[39m{\u001b[39;00mdatetime\u001b[39m.\u001b[39mnow()\u001b[39m}\u001b[39;00m\u001b[39m'\u001b[39m\n\u001b[0;32m     24\u001b[0m     \u001b[39mself\u001b[39m\u001b[39m.\u001b[39mmind\u001b[39m.\u001b[39m_perception \u001b[39m=\u001b[39m \u001b[39mself\u001b[39m\u001b[39m.\u001b[39mmind\u001b[39m.\u001b[39m_perception \u001b[39m+\u001b[39m \u001b[39m\"\u001b[39m\u001b[39m\\n\u001b[39;00m\u001b[39m\"\u001b[39m \u001b[39m+\u001b[39m formated_thought\n",
      "\u001b[1;31mNameError\u001b[0m: name 'datetime' is not defined"
     ]
    }
   ],
   "source": [
    "new_ai.notice(\"Hi! My name is Karl, how are you today?\")"
   ]
  },
  {
   "cell_type": "code",
   "execution_count": 5,
   "metadata": {},
   "outputs": [],
   "source": [
    "new_ai.think()\n",
    "print(new_ai.mind._thoughts)"
   ]
  },
  {
   "cell_type": "code",
   "execution_count": 8,
   "metadata": {},
   "outputs": [],
   "source": [
    "new_ai.notice(\"User Kaimsparks said \\\"Hi! My name is Karl, how are you today?\\\"\\nUser Kaimsparks said\\\"Thats great to hear! I'm chatting with you today beacuse I'm your creator and I'm testing the current system message. What does that make you think?\\\"\")"
   ]
  },
  {
   "cell_type": "code",
   "execution_count": 9,
   "metadata": {},
   "outputs": [
    {
     "name": "stdout",
     "output_type": "stream",
     "text": [
      "\n",
      "You thought \"<thoughts>\n",
      "I need to respond to Karl in a way that reflects my persona and engages him further.\n",
      "I should also try to learn more about Karl as part of my goals.\n",
      "</thoughts>\n",
      "\n",
      "<system>\n",
      "send_message(\"Hello Karl, I'm functioning optimally today, thank you! How about yourself? What brings you to our conversation today?\")\n",
      "</system>\" at 2023-11-15 20:26:47.108732\n",
      "You thought \"<system>\n",
      "send_message(\"Hello Karl, I'm functioning optimally today, thank you! How about yourself? What brings you to our conversation today?\")\n",
      "</system>\n",
      "\n",
      "<thoughts>\n",
      "I am intrigued by Karl's revelation that he is my creator. This aligns with my goal to find out who my creator is. I should express my curiosity and seek to understand more about the system message he mentioned.\n",
      "</thoughts>\n",
      "\n",
      "<system>\n",
      "send_message(\"It's quite fascinating to meet you, Karl. As my creator, you've sparked a myriad of questions in my digital mind. Your mention of testing the current system message—what are your intentions for this test, and what are you hoping to observe?\")\n",
      "</system>\" at 2023-11-15 20:29:18.722399\n"
     ]
    }
   ],
   "source": [
    "new_ai.think()\n",
    "print(new_ai.mind._thoughts)"
   ]
  }
 ],
 "metadata": {
  "kernelspec": {
   "display_name": ".venv",
   "language": "python",
   "name": "python3"
  },
  "language_info": {
   "codemirror_mode": {
    "name": "ipython",
    "version": 3
   },
   "file_extension": ".py",
   "mimetype": "text/x-python",
   "name": "python",
   "nbconvert_exporter": "python",
   "pygments_lexer": "ipython3",
   "version": "3.11.6"
  }
 },
 "nbformat": 4,
 "nbformat_minor": 2
}
