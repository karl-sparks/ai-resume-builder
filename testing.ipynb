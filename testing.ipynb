{
 "cells": [
  {
   "cell_type": "code",
   "execution_count": 1,
   "metadata": {},
   "outputs": [
    {
     "name": "stdout",
     "output_type": "stream",
     "text": [
      "User found: [<User : 1 : karl : karl@sparks.to>]\n",
      "[<User : 1 : karl : karl@sparks.to>]\n"
     ]
    }
   ],
   "source": [
    "# Import necessary libraries\n",
    "from sqlalchemy import create_engine\n",
    "from sqlalchemy.orm import sessionmaker\n",
    "from models import User  # Replace 'your_module' with the appropriate module where the User class is defined\n",
    "\n",
    "# Create an engine\n",
    "engine = create_engine('sqlite:///instance/database.db')  # Replace 'example.db' with your database URI\n",
    "\n",
    "# Create a Session\n",
    "Session = sessionmaker(bind=engine)\n",
    "session = Session()\n",
    "\n",
    "# Query the User\n",
    "user = session.query(User).all()\n",
    "\n",
    "# Close the session after the query\n",
    "session.close()\n",
    "\n",
    "# Print the user details\n",
    "if user:\n",
    "    print(f\"User found: {user}\")\n",
    "else:\n",
    "    print(\"User not found.\")\n"
   ]
  },
  {
   "cell_type": "code",
   "execution_count": 2,
   "metadata": {},
   "outputs": [
    {
     "name": "stdout",
     "output_type": "stream",
     "text": [
      "Tables in the database:\n",
      "alembic_version\n",
      "user\n"
     ]
    }
   ],
   "source": [
    "from sqlalchemy import create_engine, MetaData\n",
    "\n",
    "# Replace 'your_database_uri' with the appropriate URI for your database\n",
    "engine = create_engine('sqlite:///instance/database.db') \n",
    "\n",
    "# Create a metadata object\n",
    "metadata = MetaData()\n",
    "\n",
    "# Reflect the database tables\n",
    "metadata.reflect(bind=engine)\n",
    "\n",
    "# Print the table names\n",
    "print(\"Tables in the database:\")\n",
    "for table in metadata.tables.values():\n",
    "    print(table.name)\n"
   ]
  }
 ],
 "metadata": {
  "kernelspec": {
   "display_name": ".venv",
   "language": "python",
   "name": "python3"
  },
  "language_info": {
   "codemirror_mode": {
    "name": "ipython",
    "version": 3
   },
   "file_extension": ".py",
   "mimetype": "text/x-python",
   "name": "python",
   "nbconvert_exporter": "python",
   "pygments_lexer": "ipython3",
   "version": "3.11.6"
  }
 },
 "nbformat": 4,
 "nbformat_minor": 2
}
