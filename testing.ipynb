{
 "cells": [
  {
   "cell_type": "code",
   "execution_count": null,
   "metadata": {},
   "outputs": [],
   "source": [
    "# Import necessary libraries\n",
    "from sqlalchemy import create_engine\n",
    "from sqlalchemy.orm import sessionmaker\n",
    "from models import User  # Replace 'your_module' with the appropriate module where the User class is defined\n",
    "\n",
    "# Create an engine\n",
    "engine = create_engine('sqlite:///instance/database.db')  # Replace 'example.db' with your database URI\n",
    "\n",
    "# Create a Session\n",
    "Session = sessionmaker(bind=engine)\n",
    "session = Session()\n",
    "\n",
    "# Query the User\n",
    "user = session.query(User).all()\n",
    "\n",
    "# Close the session after the query\n",
    "session.close()\n",
    "\n",
    "# Print the user details\n",
    "if user:\n",
    "    print(f\"User found: {user}\")\n",
    "else:\n",
    "    print(\"User not found.\")\n"
   ]
  },
  {
   "cell_type": "code",
   "execution_count": null,
   "metadata": {},
   "outputs": [],
   "source": [
    "from sqlalchemy import create_engine, MetaData\n",
    "\n",
    "# Replace 'your_database_uri' with the appropriate URI for your database\n",
    "engine = create_engine('sqlite:///instance/database.db') \n",
    "\n",
    "# Create a metadata object\n",
    "metadata = MetaData()\n",
    "\n",
    "# Reflect the database tables\n",
    "metadata.reflect(bind=engine)\n",
    "\n",
    "# Print the table names\n",
    "print(\"Tables in the database:\")\n",
    "for table in metadata.tables.values():\n",
    "    print(table.name)\n"
   ]
  },
  {
   "cell_type": "code",
   "execution_count": 6,
   "metadata": {},
   "outputs": [],
   "source": [
    "import os\n",
    "from dotenv import load_dotenv\n",
    "from langchain import PromptTemplate\n",
    "from src.bot_main import AIBot\n",
    "from src.utils import read_input\n",
    "\n",
    "load_dotenv()\n",
    "\n",
    "inputs_dict = read_input(os.getenv(\"INPUT_FILE_PATH\"))\n",
    "\n",
    "template_str = inputs_dict[\"template\"]\n",
    "\n",
    "template = PromptTemplate.from_template(template_str)\n",
    "\n",
    "ai_model = AIBot(model_name = os.getenv(\"LLM_MODEL_NAME\"),\n",
    "                 template=template)"
   ]
  },
  {
   "cell_type": "code",
   "execution_count": 7,
   "metadata": {},
   "outputs": [
    {
     "name": "stdout",
     "output_type": "stream",
     "text": [
      "Asking Model...\n",
      "Data added to JSON file.\n"
     ]
    },
    {
     "data": {
      "text/plain": [
       "\"To make Elmer's slime less sticky, you can add more activator (like contact lens solution or laundry detergent) into the slime. Adding a little bit at a time while kneading the slime will reduce its stickiness. However, be careful not to add too much as it can make the slime too hard.\""
      ]
     },
     "execution_count": 7,
     "metadata": {},
     "output_type": "execute_result"
    }
   ],
   "source": [
    "user_input = \"How do you make Elmer's slime less sticky?\"\n",
    "context = inputs_dict[\"context\"]\n",
    "convo_history = inputs_dict[\"convo_history\"]\n",
    "\n",
    "ai_model.ask_ai({\"question\": user_input, \"context\": context, \"convo_history\": convo_history})"
   ]
  },
  {
   "cell_type": "code",
   "execution_count": 6,
   "metadata": {},
   "outputs": [
    {
     "name": "stdout",
     "output_type": "stream",
     "text": [
      "<p>This is normal text:\n",
      "1. Dot point 1\n",
      "2. Dot point 2</p>\n",
      "<div class=\"codehilite\"><pre><span></span><code><span class=\"nt\">&lt;body&gt;</span>\n",
      "<span class=\"w\">    </span><span class=\"nt\">&lt;div</span><span class=\"w\"> </span><span class=\"na\">class=</span><span class=\"s\">&quot;container&quot;</span><span class=\"nt\">&gt;</span>\n",
      "<span class=\"w\">        </span><span class=\"nt\">&lt;h1</span><span class=\"w\"> </span><span class=\"na\">class=</span><span class=\"s\">&quot;jumbotron text-center&quot;</span><span class=\"nt\">&gt;</span>Sparks<span class=\"w\"> </span>AI<span class=\"nt\">&lt;/h1&gt;</span>\n",
      "<span class=\"w\">        </span><span class=\"nt\">&lt;div</span><span class=\"w\"> </span><span class=\"na\">class=</span><span class=\"s\">&quot;chat-container&quot;</span><span class=\"nt\">&gt;</span>\n",
      "<span class=\"w\">            </span><span class=\"nt\">&lt;div</span><span class=\"w\"> </span><span class=\"na\">class=</span><span class=\"s\">&quot;chat-box&quot;</span><span class=\"w\"> </span><span class=\"na\">id=</span><span class=\"s\">&quot;chatbox&quot;</span><span class=\"nt\">&gt;</span>\n",
      "<span class=\"w\">                </span><span class=\"nt\">&lt;div</span><span class=\"w\"> </span><span class=\"na\">class=</span><span class=\"s\">&quot;bot-message&quot;</span><span class=\"nt\">&gt;</span>Hi!<span class=\"w\"> </span>I<span class=\"w\"> </span>am<span class=\"w\"> </span>Sparks<span class=\"w\"> </span>AI,<span class=\"w\"> </span>how<span class=\"w\"> </span>can<span class=\"w\"> </span>I<span class=\"w\"> </span>assist<span class=\"w\"> </span>you<span class=\"w\"> </span>today?<span class=\"nt\">&lt;/div&gt;</span>\n",
      "<span class=\"w\">            </span><span class=\"nt\">&lt;/div&gt;</span>\n",
      "<span class=\"w\">            </span><span class=\"nt\">&lt;div</span><span class=\"w\"> </span><span class=\"na\">class=</span><span class=\"s\">&quot;user-input&quot;</span><span class=\"nt\">&gt;</span>\n",
      "<span class=\"w\">                </span><span class=\"nt\">&lt;input</span><span class=\"w\"> </span><span class=\"na\">id=</span><span class=\"s\">&quot;textInput&quot;</span><span class=\"w\"> </span><span class=\"na\">class=</span><span class=\"s\">&quot;form-control input-text&quot;</span><span class=\"w\"> </span><span class=\"na\">type=</span><span class=\"s\">&quot;text&quot;</span><span class=\"w\"> </span><span class=\"na\">name=</span><span class=\"s\">&quot;msg&quot;</span><span class=\"w\"> </span><span class=\"na\">placeholder=</span><span class=\"s\">&quot;Type Your Message Here&quot;</span><span class=\"nt\">&gt;</span>\n",
      "<span class=\"w\">                </span><span class=\"nt\">&lt;input</span><span class=\"w\"> </span><span class=\"na\">id=</span><span class=\"s\">&quot;buttonInput&quot;</span><span class=\"w\"> </span><span class=\"na\">class=</span><span class=\"s\">&quot;btn btn-success input-button&quot;</span><span class=\"w\"> </span><span class=\"na\">type=</span><span class=\"s\">&quot;button&quot;</span><span class=\"w\"> </span><span class=\"na\">value=</span><span class=\"s\">&quot;Send&quot;</span><span class=\"nt\">&gt;</span>\n",
      "<span class=\"w\">            </span><span class=\"nt\">&lt;/div&gt;</span>\n",
      "<span class=\"w\">        </span><span class=\"nt\">&lt;/div&gt;</span>\n",
      "<span class=\"w\">    </span><span class=\"nt\">&lt;/div&gt;</span>\n",
      "<span class=\"nt\">&lt;/body&gt;</span>\n",
      "</code></pre></div>\n"
     ]
    }
   ],
   "source": [
    "import markdown\n",
    "\n",
    "# Example Markdown text\n",
    "markdown_text = \"\"\"\n",
    "\n",
    "This is normal text:\n",
    "1. Dot point 1\n",
    "2. Dot point 2\n",
    "\n",
    "``` {html}\n",
    "<body>\n",
    "    <div class=\"container\">\n",
    "        <h1 class=\"jumbotron text-center\">Sparks AI</h1>\n",
    "        <div class=\"chat-container\">\n",
    "            <div class=\"chat-box\" id=\"chatbox\">\n",
    "                <div class=\"bot-message\">Hi! I am Sparks AI, how can I assist you today?</div>\n",
    "            </div>\n",
    "            <div class=\"user-input\">\n",
    "                <input id=\"textInput\" class=\"form-control input-text\" type=\"text\" name=\"msg\" placeholder=\"Type Your Message Here\">\n",
    "                <input id=\"buttonInput\" class=\"btn btn-success input-button\" type=\"button\" value=\"Send\">\n",
    "            </div>\n",
    "        </div>\n",
    "    </div>\n",
    "</body>\n",
    "```\n",
    "\"\"\"\n",
    "\n",
    "# Convert Markdown to HTML\n",
    "html = markdown.markdown(markdown_text, extensions=['markdown.extensions.fenced_code', 'markdown.extensions.codehilite'])\n",
    "\n",
    "# Print the HTML\n",
    "print(html)\n"
   ]
  }
 ],
 "metadata": {
  "kernelspec": {
   "display_name": ".venv",
   "language": "python",
   "name": "python3"
  },
  "language_info": {
   "codemirror_mode": {
    "name": "ipython",
    "version": 3
   },
   "file_extension": ".py",
   "mimetype": "text/x-python",
   "name": "python",
   "nbconvert_exporter": "python",
   "pygments_lexer": "ipython3",
   "version": "3.11.6"
  }
 },
 "nbformat": 4,
 "nbformat_minor": 2
}
