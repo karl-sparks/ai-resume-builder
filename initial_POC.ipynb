{
 "cells": [
  {
   "cell_type": "code",
   "execution_count": 21,
   "metadata": {},
   "outputs": [],
   "source": [
    "import pandas as pd\n",
    "import numpy as np\n",
    "import os\n",
    "import openai\n",
    "from langchain.chat_models import ChatOpenAI\n",
    "from langchain.prompts import PromptTemplate\n",
    "from langchain.chains import LLMChain"
   ]
  },
  {
   "cell_type": "code",
   "execution_count": 19,
   "metadata": {},
   "outputs": [],
   "source": [
    "llm = ChatOpenAI(model_name=\"gpt-3.5-turbo-16k\")"
   ]
  },
  {
   "cell_type": "code",
   "execution_count": 38,
   "metadata": {},
   "outputs": [],
   "source": [
    "template = \"\"\"You are helping create a resume for a job seeker (the candidate).\n",
    "\n",
    "Use the following job description and information on the candidate background when answering the below question.\n",
    "\n",
    "Make sure you do not make specific reference to skills or achievements that are not mentioned in the background.\n",
    "\n",
    "Provide the answer in the following format:\n",
    "Job Title - Company Title:\n",
    "  - Dot point 1\n",
    "  - Dot point 2\n",
    "  - Dot point 3\n",
    "\n",
    "The candidate is applying for a job as a {job_title} at a {company_name} with the job description as follows:\n",
    "{job_description}\n",
    "\n",
    "Candidate background: \n",
    "{context}\n",
    "\n",
    "Question: For each job, create three dot points highlighting the key skills and achievements of the candidate. Make sure to include measureable metrics where possible.\n",
    "\n",
    "Answer: Let's think step by step.\"\"\"\n",
    "\n",
    "prompt = PromptTemplate(template=template, input_variables=[\"context\", \"job_title\", \"company_name\", \"job_description\"])\n",
    "\n",
    "llm_chain = LLMChain(prompt=prompt, llm=llm)"
   ]
  },
  {
   "cell_type": "code",
   "execution_count": 39,
   "metadata": {},
   "outputs": [],
   "source": [
    "job_title = \"Machine Learning Engineer\"\n",
    "\n",
    "company_name = \"Machinify\"\n",
    "\n",
    "job_description = \"\"\"\n",
    "Machinify is a revolutionary healthcare software company with a mission to ensure that patients get the right medical treatment, at the right time, at the right price. Our cloud-based Machinify AI platform leverages the latest advances in machine learning, large language models, data analytics, and cloud processing to solve previously intractable problems, transforming healthcare administration and payment operations.\n",
    "\n",
    "We are seeking an ML Engineer to join our AI focused healthcare startup. Our team has deployed models that check for anomalies in medical claims, predict the trajectory of care of a particular patient and the next likely treatment and even “read and understand” medical record documents using state-of-the-art NLP and computer vision techniques to assist clinicians. There are many more such problems to be solved. So if you are looking for a place where you can apply your expertise in AI/ML to solve real problems and make a difference in an industry that impacts millions of lives while accelerating your career, you’ll love Machinify. We are seeking a Sr Machine Learning Scientist to join our team.\n",
    "\n",
    "What you’ll do:\n",
    "Advance Machinify’s capabilities to model and understand medical decisions which will power a range of products in the claims processing space. \n",
    "Make thoughtful decisions around which methods/algorithms are likely to work well in solving the business problem at hand\n",
    "Consider the quality of the available input data and build robust systems that will work well in the presence of noise/errors\n",
    "Measure the model output in practical real-world settings and iterate your approach \n",
    "Learn about the healthcare industry and become an expert over time\n",
    "\n",
    "What You Bring:\n",
    "You enjoy solving real-world business problems by developing, from scratch, ML models and deploying them in production - and have been doing that successfully for a while. \n",
    "You are comfortable measuring and optimizing the direct business impact of your work. \n",
    "You are interested in learning about the healthcare industry and helping us improve the care millions of people receive. \n",
    "You are scrappy, and love solving hard problems that matter. \n",
    "You are experienced with SQL, handling large-scale data, and are comfortable with at least one programming language (Python, R, etc.). \n",
    "You have experience building ML models using modern ML approaches like Neural Nets or Tree-ensembles from scratch for new applications - making decisions relating to which supervised labels to use, the metric to optimize for, and the features likely to be useful. \n",
    "You are a critical thinker who can be strategic without losing attention to detail. \n",
    "You are comfortable taking the initiative and owning projects from start to finish. \n",
    "You can build positive relationships based on trust and value delivered. \n",
    "\n",
    "The base salary for this position will vary based on an array of factors unique to each candidate such as qualifications, years and depth of experience, skill set, certifications, etc. The base salary range for this role is $180k-250k. We are hiring for different seniorities, and our Recruiting team will let you know if you qualify for a different role/range. Salary is one component of the total compensation package, which includes meaningful equity, excellent healthcare, flexible time off, and other benefits and perks.\n",
    "\n",
    "Equal Employment Opportunity at Machinify\n",
    "\n",
    "Machinify is committed to hiring talented and qualified individuals with diverse backgrounds for all of its positions. Machinify believes that the gathering and celebration of unique backgrounds, qualities, and cultures enriches the workplace.\n",
    "\"\"\""
   ]
  },
  {
   "cell_type": "code",
   "execution_count": 40,
   "metadata": {},
   "outputs": [],
   "source": [
    "\n",
    "context = \"\"\"\n",
    "Work Experience:\n",
    "  - Principal Analyst for the Austrlian Prudential Regulation Authority.\n",
    "    - Extensively uses R and SQL to analyse data and produce reports.\n",
    "    - Has a strong understanding of the Australian financial system.\n",
    "    - Created R packages to automate the production of reports.\n",
    "    - Created new automated reports to highlight the difference between old and new capital frameworks for everyone of the 114 reporting ADIs.\n",
    "  - Senior Analyst for the Reserve Bank of Australia.\n",
    "    - Used R to build and maintain models to monitor and forecast banks' funding costs.\n",
    "    - Undertook economic and financial research to support the Bank's monetary policy and payment regulation functions.\n",
    "    - Liaising with external and internal stakeholders for their expert opinions on different bank funding markets, drawing this all together to provide a comprehensive overview of funding conditions.\n",
    "    - Monitoring of the quantity and price of bank funding sources such as deposits, bonds, securitisation and money markets using various data sources.\n",
    "    - Analysing data collected through the Economic and Financial Statistics (EFS) collection. Including liaising with reporting institutions on reporting standards and data quality issues, and preparing data for publication.\n",
    "    - Used R and SQL to build and maintain models to monitor and forecast banks' funding costs. to analyse data and forecasting the impact of changes in banks' funding conditions on average funding costs.\n",
    "\"\"\"\n",
    "\n",
    "answer = llm_chain.run({\"context\": context, \"job_title\": job_title, \"company_name\": company_name, \"job_description\": job_description})"
   ]
  },
  {
   "cell_type": "code",
   "execution_count": 41,
   "metadata": {},
   "outputs": [
    {
     "name": "stdout",
     "output_type": "stream",
     "text": [
      "Principal Analyst for the Australian Prudential Regulation Authority:\n",
      "- Developed and utilized R packages to automate the production of reports, resulting in a significant increase in efficiency and accuracy.\n",
      "- Created new automated reports comparing old and new capital frameworks for 114 reporting ADIs, providing clear insights into the impact of regulatory changes.\n",
      "- Demonstrated strong understanding of the Australian financial system, utilizing SQL and R to analyze data and produce comprehensive reports.\n",
      "\n",
      "Senior Analyst for the Reserve Bank of Australia:\n",
      "- Built and maintained models using R and SQL to monitor and forecast banks' funding costs, resulting in accurate predictions and informed decision-making.\n",
      "- Conducted extensive economic and financial research to support the Bank's monetary policy and payment regulation functions, providing valuable insights and recommendations.\n",
      "- Collaborated with external and internal stakeholders to gather expert opinions on bank funding markets, ensuring a comprehensive overview of funding conditions and informing strategic decisions.\n"
     ]
    }
   ],
   "source": [
    "# write code to print the answer using the answer variable and format it nicely\n",
    "print(answer)"
   ]
  }
 ],
 "metadata": {
  "kernelspec": {
   "display_name": ".venv",
   "language": "python",
   "name": "python3"
  },
  "language_info": {
   "codemirror_mode": {
    "name": "ipython",
    "version": 3
   },
   "file_extension": ".py",
   "mimetype": "text/x-python",
   "name": "python",
   "nbconvert_exporter": "python",
   "pygments_lexer": "ipython3",
   "version": "3.10.8"
  },
  "orig_nbformat": 4
 },
 "nbformat": 4,
 "nbformat_minor": 2
}
