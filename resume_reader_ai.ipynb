{
 "cells": [
  {
   "cell_type": "code",
   "execution_count": 1,
   "metadata": {},
   "outputs": [],
   "source": [
    "from dotenv import load_dotenv\n",
    "\n",
    "from langchain.chat_models import ChatOpenAI\n",
    "from langchain.document_loaders import WebBaseLoader, Docx2txtLoader\n",
    "from langchain.prompts import ChatPromptTemplate\n",
    "\n",
    "load_dotenv()\n",
    "\n",
    "resume_loader = Docx2txtLoader(\"resume.docx\")\n",
    "\n",
    "resume = resume_loader.load()\n",
    "\n",
    "prompt = ChatPromptTemplate.from_template(\"You are a recruiter for the following job:\\n=====\\n{job}\\n=====\\nrate the likelyhood that the following resume will be considered for the role and provide advice to imporve the resume using three dot points:\\n=====\\n{resume}\")\n",
    "\n",
    "llm = ChatOpenAI(temperature=0, model_name=\"gpt-4\")\n",
    "chain = prompt | llm"
   ]
  },
  {
   "cell_type": "code",
   "execution_count": 19,
   "metadata": {},
   "outputs": [],
   "source": [
    "web_loader = WebBaseLoader(\"https://career10.successfactors.com/career?career_ns=job_listing&company=Woolworths&navBarLevel=JOB_SEARCH&rcm_site_locale=en_GB&career_job_req_id=938085&jobPipeline=LinkedIn\")\n",
    "\n",
    "docs = web_loader.load()"
   ]
  },
  {
   "cell_type": "code",
   "execution_count": 23,
   "metadata": {},
   "outputs": [
    {
     "data": {
      "text/plain": [
       "AIMessage(content=\"The likelihood is moderate. The candidate has relevant experience in data analysis and has used relevant tools such as R and SQL. However, the candidate lacks specific experience as a Data Scientist and does not demonstrate experience with Python, which is a requirement for the role. \\n\\nAdvice to improve the resume:\\n\\n1. Highlight any experience with Python: The job description specifically mentions Python as a requirement. If the candidate has any experience with Python, even if it's not in a professional capacity, they should mention it.\\n\\n2. Emphasize data science projects: The candidate should highlight any projects or tasks that involved data science methodologies, even if they were not in a formal Data Scientist role. This could include predictive modeling, machine learning, or advanced statistical analysis.\\n\\n3. Tailor the resume to the job description: The candidate should tailor their resume to match the job description more closely. This could involve using similar language to the job description and highlighting the most relevant skills and experiences. For example, the job description mentions working with complex and varied data sets, so the candidate should highlight any similar experience.\")"
      ]
     },
     "execution_count": 23,
     "metadata": {},
     "output_type": "execute_result"
    }
   ],
   "source": [
    "chain.invoke({\"job\": docs, \"resume\": resume})"
   ]
  }
 ],
 "metadata": {
  "kernelspec": {
   "display_name": "venv",
   "language": "python",
   "name": "python3"
  },
  "language_info": {
   "codemirror_mode": {
    "name": "ipython",
    "version": 3
   },
   "file_extension": ".py",
   "mimetype": "text/x-python",
   "name": "python",
   "nbconvert_exporter": "python",
   "pygments_lexer": "ipython3",
   "version": "3.11.6"
  }
 },
 "nbformat": 4,
 "nbformat_minor": 2
}
