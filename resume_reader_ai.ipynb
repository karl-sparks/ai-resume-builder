{
 "cells": [
  {
   "cell_type": "code",
   "execution_count": 22,
   "metadata": {},
   "outputs": [],
   "source": [
    "from dotenv import load_dotenv\n",
    "\n",
    "from langchain.chat_models import ChatOpenAI\n",
    "from langchain.document_loaders import WebBaseLoader, Docx2txtLoader\n",
    "from langchain.chains.summarize import load_summarize_chain\n",
    "from langchain.prompts import ChatPromptTemplate\n",
    "\n",
    "load_dotenv()\n",
    "\n",
    "resume_loader = Docx2txtLoader(\"resume.docx\")\n",
    "\n",
    "resume = resume_loader.load()\n",
    "\n",
    "prompt = ChatPromptTemplate.from_template(\"You are a recruiter for the following job:\\n=====\\n{job}\\n=====\\nrate the likelyhood that the following resume will be considered for the role and provide advice to imporve the resume using three dot points:\\n=====\\n{resume}\")\n",
    "\n",
    "llm = ChatOpenAI(temperature=0, model_name=\"gpt-4\")\n",
    "chain = prompt | llm"
   ]
  },
  {
   "cell_type": "code",
   "execution_count": 19,
   "metadata": {},
   "outputs": [],
   "source": [
    "web_loader = WebBaseLoader(\"https://career10.successfactors.com/career?career_ns=job_listing&company=Woolworths&navBarLevel=JOB_SEARCH&rcm_site_locale=en_GB&career_job_req_id=938085&jobPipeline=LinkedIn\")\n",
    "\n",
    "docs = web_loader.load()"
   ]
  },
  {
   "cell_type": "code",
   "execution_count": 24,
   "metadata": {},
   "outputs": [
    {
     "data": {
      "text/plain": [
       "[Document(page_content=\"KARL SPARKS\\t\\t0437 480 187\\n\\n\\t\\t\\n\\n\\t\\t\\tKARL SPARKS\\t\\t0437 480 187\\n\\n\\t\\t\\t\\t\\tKARL SPARKS\\n\\n\\t\\t\\t\\t\\t\\t\\t\\t\\t0437 480 187\\tkarl@sparks.to\\n\\n\\t\\t\\t\\t\\t\\t\\t\\t\\thttps://www.linkedin.com/in/karl-sparks\\n\\n\\t\\t\\t\\n\\n\\t\\t\\t\\t\\tPROFESSIONAL EXPERIENCE\\n\\n\\t\\t\\tReserve Bank of Australia\\tJul 2019 – Current\\n\\n\\t\\t\\tSenior Analyst | Institutional Markets | Domestic Markets Department\\n\\n\\t\\t\\tProviding expert advice on trends and issues impacting Australian bank funding costs to senior and executive staff. This includes:\\n\\n\\t\\t\\tLiaising with external and internal stakeholders for their expert opinions on different bank funding markets, drawing this all together to provide a comprehensive overview of funding conditions.\\n\\n\\t\\t\\tMonitoring of the quantity and price of bank funding sources such as deposits, bonds, securitisation and money markets using various data sources.\\n\\n\\t\\t\\tProviding expert advice on how changes in banks’ funding costs impact banks’ lending product decisions.\\n\\n\\t\\t\\tApplying advanced statistical techniques to quantify the relationship between different financial variables, and visually convey the results to stakeholders.\\n\\n\\t\\t\\tBuilding data capability by creating R and SQL code infrastructure to analyse data and forecasting the impact of changes in banks' funding conditions on average funding costs.\\n\\n\\t\\t\\tAnalysing data collected through the Economic and Financial Statistics (EFS) collection. Including liaising with reporting institutions on reporting standards and data quality issues, and preparing data for publication.\\n\\n\\t\\t\\tAnalyst | Payments System Efficiency | Payments Policy Department\\tJul 2019 – Jul 2020\\n\\n\\t\\t\\tDuties included:\\n\\n\\t\\t\\tRetail Payments Statistics data collection - collecting data, liaising with reporting institutions on data quality issues and preparing data for publication.\\n\\n\\t\\t\\tWriting reports on recent trends in retail payments in Australia, including Buy Now Pay Later (BNPL) and QR code technology.\\n\\n\\t\\t\\t\\n\\n\\t\\t\\tThe Queensland Program of Assistance to Survivors of Torture and Trauma (QPASTT)\\t\\n\\n\\t\\tVolunteer Tutor\\tFeb 2019 – May 2019\\n\\n\\t\\t\\tVolunteer tutor for young migrants from a refugee background aged 12 to 24. \\n\\n\\t\\t\\t\\n\\n\\t\\t\\tKPMG Brisbane\\tSep 2018 – Oct 2018\\n\\n\\t\\tWork Experience Intern\\n\\n\\t\\t\\tIntern for the Policy, Programs and Evaluation team at KPMG Brisbane. Provided useful project analysis and research that resulted in excellent feedback from supervisors.\\n\\n\\t\\t\\t\\n\\n\\t\\t\\tTWMT Pty Ltd & POCKET HEALTH Pty Ltd\\tJun 2018 – Jul 2018\\n\\n\\t\\tWork Experience Intern\\t \\n\\n\\t\\t\\tIntern for TWMT Pty Ltd a crypto-currency exchange startup, and their sister company Pocket Health Pty Ltd a healthcare pharmaceutical delivery service startup. The internship ended with glowing recommendations from supervisors.\\n\\n\\t\\t\\t\\n\\n\\t\\t\\tSEQIN Pty Ltd  \\tFeb 2015 – Jun 2017  \\n\\n\\t\\tManaging Director\\n\\n\\t\\tBecome managing director after the sudden death of the previous Managing Director. Director and management duties included:\\n\\n\\t\\t\\tCreated and streamlined new company policies and procedures by incorporating new technology, and restructuring traditional business processes (including transitioning to cloud-based infrastructure), resulting in a substantial increase in company profit.\\n\\n\\t\\t\\tImproved company relationships and communication with students, universities, company employees, other Directors and company stakeholders by establishing new communication channels, creating a new company website, streamlining company procedures, and incorporating new technology into company functions.\\n\\n\\t\\t\\t\\t\\t\\t\\tEDUCATION\\t\\t\\n\\n\\t\\tThe University of Queensland \\tGraduated 2019\\n\\n\\t\\t\\tMaster of International Economics and Finance\\n\\n\\t\\t\\tDean's Commendation for Academic Excellence.\\n\\n\\t\\t\\tIncluded advanced statistical training, econometric analysis.\\n\\n\\t\\t\\tThe University of Queensland \\tGraduated 2012\\n\\n\\t\\t\\t\\tBachelor of Biotechnology with Honours First Class\\t\\t\\n\\n\\t\\t\\tDean's Commendation for Academic Excellence.\\n\\n\\t\\t\\tIncluded advanced statistical analysis for hypothesis testing and a bioinformatics  honours project.\", metadata={'source': 'resume.docx'})]"
      ]
     },
     "execution_count": 24,
     "metadata": {},
     "output_type": "execute_result"
    }
   ],
   "source": [
    "resume"
   ]
  },
  {
   "cell_type": "code",
   "execution_count": 23,
   "metadata": {},
   "outputs": [
    {
     "data": {
      "text/plain": [
       "AIMessage(content=\"The likelihood is moderate. The candidate has relevant experience in data analysis and has used relevant tools such as R and SQL. However, the candidate lacks specific experience as a Data Scientist and does not demonstrate experience with Python, which is a requirement for the role. \\n\\nAdvice to improve the resume:\\n\\n1. Highlight any experience with Python: The job description specifically mentions Python as a requirement. If the candidate has any experience with Python, even if it's not in a professional capacity, they should mention it.\\n\\n2. Emphasize data science projects: The candidate should highlight any projects or tasks that involved data science methodologies, even if they were not in a formal Data Scientist role. This could include predictive modeling, machine learning, or advanced statistical analysis.\\n\\n3. Tailor the resume to the job description: The candidate should tailor their resume to match the job description more closely. This could involve using similar language to the job description and highlighting the most relevant skills and experiences. For example, the job description mentions working with complex and varied data sets, so the candidate should highlight any similar experience.\")"
      ]
     },
     "execution_count": 23,
     "metadata": {},
     "output_type": "execute_result"
    }
   ],
   "source": [
    "chain.invoke({\"job\": docs, \"resume\": resume})"
   ]
  },
  {
   "cell_type": "code",
   "execution_count": null,
   "metadata": {},
   "outputs": [],
   "source": []
  }
 ],
 "metadata": {
  "kernelspec": {
   "display_name": "venv",
   "language": "python",
   "name": "python3"
  },
  "language_info": {
   "codemirror_mode": {
    "name": "ipython",
    "version": 3
   },
   "file_extension": ".py",
   "mimetype": "text/x-python",
   "name": "python",
   "nbconvert_exporter": "python",
   "pygments_lexer": "ipython3",
   "version": "3.11.6"
  }
 },
 "nbformat": 4,
 "nbformat_minor": 2
}
